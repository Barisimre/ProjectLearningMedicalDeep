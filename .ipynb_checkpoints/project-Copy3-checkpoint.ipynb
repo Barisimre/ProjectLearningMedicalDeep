{
 "cells": [
  {
   "cell_type": "code",
   "execution_count": 1,
   "id": "0068436c-ef88-48dc-82cd-bd3cd0de165e",
   "metadata": {},
   "outputs": [],
   "source": [
    "import os\n",
    "import numpy as np\n",
    "import matplotlib.pyplot as plt\n",
    "import glob\n",
    "import monai\n",
    "from PIL import Image\n",
    "import torch\n",
    "from monai.visualize import blend_images, matshow3d, plot_2d_or_3d_image\n",
    "from tqdm.notebook import tqdm"
   ]
  },
  {
   "cell_type": "code",
   "execution_count": 2,
   "id": "2a7cf2a1-29aa-481f-b331-60d824c540f8",
   "metadata": {},
   "outputs": [],
   "source": [
    "# Cursor parking space"
   ]
  },
  {
   "cell_type": "code",
   "execution_count": 3,
   "id": "97823914-5b80-4096-b29e-f7aa8eb85c7d",
   "metadata": {},
   "outputs": [
    {
     "name": "stderr",
     "output_type": "stream",
     "text": [
      "\u001b[34m\u001b[1mwandb\u001b[0m: Currently logged in as: \u001b[33mbarisimre\u001b[0m (\u001b[33mcpl57\u001b[0m). Use \u001b[1m`wandb login --relogin`\u001b[0m to force relogin\n"
     ]
    }
   ],
   "source": [
    "import os\n",
    "os.environ[\"WANDB_NOTEBOOK_NAME\"] = \"./project.ipynb\"\n",
    "\n",
    "import wandb\n",
    "wandb.login()\n",
    "\n",
    "# wandb.log({'epoch': epoch, 'train_loss': train_loss, 'val_loss': val_loss, 'results': log_imgs})\n",
    "def init_wandb(model, loss_function):\n",
    "    wandb.init(project=\"Project\", name=\"Monday\", entity=\"cpl57\")\n",
    "    wandb.watch(model, loss_function, log=\"all\")\n",
    "\n",
    "\n"
   ]
  },
  {
   "cell_type": "code",
   "execution_count": 4,
   "id": "258d8d8c-e2e0-4955-8d8e-6d4341616862",
   "metadata": {},
   "outputs": [],
   "source": [
    "patient_folders = [\"data/training/\" + x + \"/\" for x in os.listdir(\"data/training\")]\n",
    "patient_files = [[x + y[:-7] for y in os.listdir(x) if \"frame\" in y and \"gt\" not in y] for x in patient_folders]\n",
    "patient_files_flattened = [element for sublist in patient_files for element in sublist]\n",
    "\n",
    "\n",
    "images = [{'img': x} for x in patient_files_flattened]"
   ]
  },
  {
   "cell_type": "code",
   "execution_count": 5,
   "id": "032de188-f3e8-4769-94c9-0f160fc0e4eb",
   "metadata": {},
   "outputs": [],
   "source": [
    "from eval import load_nii\n",
    "class LoadNIFTI(monai.transforms.Transform):\n",
    "    \"\"\"\n",
    "    This custom Monai transform loads the data from the rib segmentation dataset.\n",
    "    Defining a custom transform is simple; just overwrite the __init__ function and __call__ function.\n",
    "    \"\"\"\n",
    "    def __init__(self, keys=None):\n",
    "        pass\n",
    "\n",
    "    def __call__(self, sample):\n",
    "        img_file = sample['img'] + \".nii.gz\"\n",
    "        img_mask = sample['img'] + \"_gt.nii.gz\"\n",
    "        \n",
    "        image, img_affine, img_header = load_nii(img_file)\n",
    "        image = np.moveaxis(image, (2), (0))\n",
    "        \n",
    "        mask, mask_affine, mask_header = load_nii(img_mask)\n",
    "        mask = np.moveaxis(mask, (2), (0))\n",
    "        \n",
    "        return {'img': image, 'mask': mask, 'name': sample}\n",
    "    \n",
    "    \n",
    "class SplitMask(monai.transforms.Transform):\n",
    "    \"\"\"\n",
    "    This custom Monai transform loads the data from the rib segmentation dataset.\n",
    "    Defining a custom transform is simple; just overwrite the __init__ function and __call__ function.\n",
    "    \"\"\"\n",
    "    def __init__(self, keys=None):\n",
    "        pass\n",
    "\n",
    "    def __call__(self, sample):\n",
    "        mask = sample['mask'][0]\n",
    "            \n",
    "        c2 = np.where(np.logical_and(mask > 0.2, mask < 0.5), 1.0, 0.0)\n",
    "        c3 = np.where(np.logical_and(mask > 0.5, mask < 0.8), 1.0, 0.0)\n",
    "        c4 = np.where(mask > 0.8, 1.0, 0.0)\n",
    "        sample['mask'] = np.array([c2, c3, c4])\n",
    "        \n",
    "        return sample\n",
    "    \n",
    "    \n"
   ]
  },
  {
   "cell_type": "code",
   "execution_count": 6,
   "id": "4b539801-6bcf-4ac0-a7de-4fcd3e4790f5",
   "metadata": {},
   "outputs": [],
   "source": [
    "# Define transforms for loading the dataset\n",
    "\n",
    "# add_channels_transform = monai.transforms.AddChanneld(keys=['img', 'mask'])\n",
    "# flip_transform = monai.transforms.RandFlipd(keys=['img', 'mask'], prob=1, spatial_axis=1)\n",
    "# rotate_transform = monai.transforms.RandRotated(keys=['img', 'mask'], range_x=np.pi/4, prob=1, mode=['bilinear', 'nearest'])\n",
    "\n",
    "compose_transform = monai.transforms.Compose(\n",
    "    [\n",
    "        LoadNIFTI(),\n",
    "        monai.transforms.AddChanneld(keys=['img', 'mask']),\n",
    "        monai.transforms.ScaleIntensityd(keys=['img', 'mask'], minv=0.0, maxv=1.0),\n",
    "        monai.transforms.SpatialPadd(keys=['img', 'mask'], spatial_size=(17, 256, 256)),\n",
    "        monai.transforms.SpatialCropd(keys=['img', 'mask'], roi_center = (8, 128, 128), roi_size=(17, 256, 256)),\n",
    "        monai.transforms.RandFlipd(keys=['img', 'mask'], prob=1, spatial_axis=1),\n",
    "        monai.transforms.RandRotated(keys=['img', 'mask'], range_x=np.pi/4, prob=1, mode=['bilinear', 'nearest']),\n",
    "        monai.transforms.RandSpatialCropd(keys=['img', 'mask'], roi_size=(16, 128, 128), random_size=False),\n",
    "        SplitMask(),\n",
    "        monai.transforms.ScaleIntensityd(keys=['mask'], minv=0.0, maxv=1.0)\n",
    "    ]\n",
    ")\n"
   ]
  },
  {
   "cell_type": "code",
   "execution_count": 7,
   "id": "a800572b-818c-4dfe-a298-c5937d2f304d",
   "metadata": {},
   "outputs": [
    {
     "name": "stderr",
     "output_type": "stream",
     "text": [
      "Loading dataset: 100%|███████████████████████████████████████████████████████████████████████████████████████████████████████████████████████████████████████████████████████████| 200/200 [00:03<00:00, 59.24it/s]\n"
     ]
    }
   ],
   "source": [
    "train_dict_list = [x for x in images]\n",
    "dataset = monai.data.CacheDataset(train_dict_list, transform=compose_transform)\n"
   ]
  },
  {
   "cell_type": "code",
   "execution_count": 8,
   "id": "03315317-3b68-49ad-a78d-0ab7713525d7",
   "metadata": {},
   "outputs": [],
   "source": [
    "data_loader = monai.data.DataLoader(dataset, batch_size=8)"
   ]
  },
  {
   "cell_type": "code",
   "execution_count": 9,
   "id": "533091f6-4209-443b-9266-e573f01ef91a",
   "metadata": {},
   "outputs": [
    {
     "data": {
      "image/png": "[encoded data removed]",
      "text/plain": [
       "<Figure size 432x288 with 1 Axes>"
      ]
     },
     "metadata": {
      "needs_background": "light"
     },
     "output_type": "display_data"
    },
    {
     "name": "stdout",
     "output_type": "stream",
     "text": [
      "torch.Size([8, 3, 16, 128, 128])\n"
     ]
    },
    {
     "data": {
      "image/png": "[encoded data removed]",
      "text/plain": [
       "<Figure size 432x288 with 1 Axes>"
      ]
     },
     "metadata": {
      "needs_background": "light"
     },
     "output_type": "display_data"
    },
    {
     "data": {
      "image/png": "[encoded data removed]",
      "text/plain": [
       "<Figure size 432x288 with 1 Axes>"
      ]
     },
     "metadata": {
      "needs_background": "light"
     },
     "output_type": "display_data"
    },
    {
     "data": {
      "image/png": "[encoded data removed]",
      "text/plain": [
       "<Figure size 432x288 with 1 Axes>"
      ]
     },
     "metadata": {
      "needs_background": "light"
     },
     "output_type": "display_data"
    }
   ],
   "source": [
    "# Visualize something\n",
    "for data in data_loader:\n",
    "    plt.imshow(data['img'][0][0][2], cmap='gray')\n",
    "    plt.show()\n",
    "    print(data['mask'].shape)\n",
    "    plt.imshow(data['mask'][0][0][2], cmap='gray')\n",
    "    plt.show()\n",
    "    plt.imshow(data['mask'][0][1][2], cmap='gray')\n",
    "    plt.show()\n",
    "    plt.imshow(data['mask'][0][2][2], cmap='gray')\n",
    "    break"
   ]
  },
  {
   "cell_type": "code",
   "execution_count": 10,
   "id": "ffe9dba4-5496-4d71-9aae-da90a9f659e5",
   "metadata": {},
   "outputs": [],
   "source": [
    "# UNet"
   ]
  },
  {
   "cell_type": "code",
   "execution_count": 11,
   "id": "a0316323-c00f-4bf7-8462-0c1a8f792296",
   "metadata": {},
   "outputs": [],
   "source": [
    "device = torch.device(\"cuda\" if torch.cuda.is_available() else \"cpu\")"
   ]
  },
  {
   "cell_type": "code",
   "execution_count": 12,
   "id": "e0901219-9d3a-4726-ad7d-dfb4c9f0404c",
   "metadata": {
    "tags": []
   },
   "outputs": [],
   "source": [
    "# model = monai.networks.nets.UNet(\n",
    "#     spatial_dims=3,\n",
    "#     in_channels=1,\n",
    "#     out_channels=3,\n",
    "#     channels = (8, 16, 32, 64),\n",
    "#     strides=(1, 1, 1),\n",
    "#     num_res_units=2,\n",
    "# ).to(device)\n",
    "\n",
    "model = monai.networks.nets.UNETR(in_channels=1, out_channels=3, img_size=(16,128,128), feature_size=32, norm_name='batch').to(device)"
   ]
  },
  {
   "cell_type": "code",
   "execution_count": 13,
   "id": "693feae7-849c-4433-ab35-59699d3b6a96",
   "metadata": {
    "tags": []
   },
   "outputs": [],
   "source": [
    "loss_function =  torch.nn.MSELoss()\n",
    "optimizer = torch.optim.Adam(model.parameters(), lr=0.0002, betas=(0.5, 0.999))"
   ]
  },
  {
   "cell_type": "code",
   "execution_count": null,
   "id": "13f1a1ff-2604-4e7c-bd0f-c1941af7e23b",
   "metadata": {},
   "outputs": [
    {
     "data": {
      "text/html": [
       "wandb version 0.12.18 is available!  To upgrade, please run:\n",
       " $ pip install wandb --upgrade"
      ],
      "text/plain": [
       "<IPython.core.display.HTML object>"
      ]
     },
     "metadata": {},
     "output_type": "display_data"
    },
    {
     "data": {
      "text/html": [
       "Tracking run with wandb version 0.12.17"
      ],
      "text/plain": [
       "<IPython.core.display.HTML object>"
      ]
     },
     "metadata": {},
     "output_type": "display_data"
    },
    {
     "data": {
      "text/html": [
       "Run data is saved locally in <code>/home/baris/Documents/uni/DeepMedical/ProjectLearningMedicalDeep/wandb/run-20220613_163615-2th2760i</code>"
      ],
      "text/plain": [
       "<IPython.core.display.HTML object>"
      ]
     },
     "metadata": {},
     "output_type": "display_data"
    },
    {
     "data": {
      "text/html": [
       "Syncing run <strong><a href=\"https://wandb.ai/cpl57/Project/runs/2th2760i\" target=\"_blank\">Monday</a></strong> to <a href=\"https://wandb.ai/cpl57/Project\" target=\"_blank\">Weights & Biases</a> (<a href=\"https://wandb.me/run\" target=\"_blank\">docs</a>)<br/>"
      ],
      "text/plain": [
       "<IPython.core.display.HTML object>"
      ]
     },
     "metadata": {},
     "output_type": "display_data"
    },
    {
     "data": {
      "application/vnd.jupyter.widget-view+json": {
       "model_id": "886f559d3b2a469a8550853cd0d1a179",
       "version_major": 2,
       "version_minor": 0
      },
      "text/plain": [
       "  0%|          | 0/50 [00:00<?, ?it/s]"
      ]
     },
     "metadata": {},
     "output_type": "display_data"
    },
    {
     "data": {
      "application/vnd.jupyter.widget-view+json": {
       "model_id": "1e9bb963c7474d69a4070fe0942cd56e",
       "version_major": 2,
       "version_minor": 0
      },
      "text/plain": [
       "  0%|          | 0/25 [00:00<?, ?it/s]"
      ]
     },
     "metadata": {},
     "output_type": "display_data"
    },
    {
     "data": {
      "application/vnd.jupyter.widget-view+json": {
       "model_id": "8ea4d79038f94520af684bbb635fbdd5",
       "version_major": 2,
       "version_minor": 0
      },
      "text/plain": [
       "  0%|          | 0/25 [00:00<?, ?it/s]"
      ]
     },
     "metadata": {},
     "output_type": "display_data"
    },
    {
     "data": {
      "text/html": [
       "Waiting for W&B process to finish... <strong style=\"color:green\">(success).</strong>"
      ],
      "text/plain": [
       "<IPython.core.display.HTML object>"
      ]
     },
     "metadata": {},
     "output_type": "display_data"
    },
    {
     "data": {
      "application/vnd.jupyter.widget-view+json": {
       "model_id": "dcbbb5a6397840628c6c3f484a9c9f18",
       "version_major": 2,
       "version_minor": 0
      },
      "text/plain": [
       "VBox(children=(Label(value='2.529 MB of 2.530 MB uploaded (0.000 MB deduped)\\r'), FloatProgress(value=0.999785…"
      ]
     },
     "metadata": {},
     "output_type": "display_data"
    }
   ],
   "source": [
    "import time\n",
    "run = wandb.init(project=\"Project\", name=\"Monday\", entity=\"cpl57\")\n",
    "wandb.watch(model, loss_function, log=\"all\")\n",
    "\n",
    "def flatten(xss):\n",
    "    return [x for xs in xss for x in xs]\n",
    "\n",
    "try:\n",
    "    for epoch in tqdm(range(50), colour=\"pink\"):\n",
    "        train_losses = []\n",
    "        val_losses = []\n",
    "        outputs = []\n",
    "        torch.cuda.empty_cache()\n",
    "\n",
    "        for data in tqdm(data_loader, colour=\"pink\"):\n",
    "            img = data['img']\n",
    "            mask = data['mask']\n",
    "            model.train()\n",
    "            optimizer.zero_grad()\n",
    "            output = torch.nn.Sigmoid()(model(img.to(device)))\n",
    "            loss = loss_function(output, mask.to(device))\n",
    "            loss.backward()\n",
    "            optimizer.step()\n",
    "            train_losses.append(loss.item())\n",
    "            \n",
    "            \n",
    "            images = [wandb.Image(x, caption=\"Input\") for x in img.detach().cpu().numpy()[0][0]] \n",
    "            labels = flatten([[wandb.Image(channel, caption=\"Label\") for channel in x] for x in mask.detach().cpu().numpy()[0]])           \n",
    "            masks = flatten([[wandb.Image(np.around(channel), caption=\"Output\") for channel in x] for x in output.detach().cpu().numpy()[0]])   \n",
    "            \n",
    "            run.log({'img': images, 'label': labels, 'mask': masks, 'loss':loss.item()})\n",
    "\n",
    "#             del loss\n",
    "#             del data\n",
    "            # torch.cuda.empty_cache()\n",
    "            \n",
    "        train_loss = sum(train_losses)/len(train_losses)\n",
    "        # val_loss = sum(val_losses)/len(val_losses)\n",
    "        run.log({'epoch':epoch, 'train_loss': train_loss})   \n",
    "    \n",
    "finally:\n",
    "    run.finish()\n",
    "    torch.save(model.state_dict(), f'models/trainedUNet{str(time.time())}.pt')\n",
    "    \n"
   ]
  },
  {
   "cell_type": "code",
   "execution_count": null,
   "id": "d8df202f-f746-4798-b448-aff73aad71cd",
   "metadata": {},
   "outputs": [],
   "source": [
    "!pip install einops"
   ]
  },
  {
   "cell_type": "code",
   "execution_count": null,
   "id": "fbe0c910-1695-4508-b0d8-85976af96d60",
   "metadata": {},
   "outputs": [],
   "source": []
  },
  {
   "cell_type": "code",
   "execution_count": null,
   "id": "9fdce623-6c6b-498c-a311-ebe45c989521",
   "metadata": {},
   "outputs": [],
   "source": []
  },
  {
   "cell_type": "code",
   "execution_count": null,
   "id": "a8f7f8e9-53a9-4e23-81c7-3becc1d70ca2",
   "metadata": {},
   "outputs": [],
   "source": []
  }
 ],
 "metadata": {
  "kernelspec": {
   "display_name": "Python 3 (ipykernel)",
   "language": "python",
   "name": "python3"
  },
  "language_info": {
   "codemirror_mode": {
    "name": "ipython",
    "version": 3
   },
   "file_extension": ".py",
   "mimetype": "text/x-python",
   "name": "python",
   "nbconvert_exporter": "python",
   "pygments_lexer": "ipython3",
   "version": "3.10.4"
  }
 },
 "nbformat": 4,
 "nbformat_minor": 5
}
