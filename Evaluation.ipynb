{
 "cells": [
  {
   "cell_type": "code",
   "execution_count": null,
   "id": "0d7599ca-b28c-4f77-a1d8-8ecb56dc3e6e",
   "metadata": {},
   "outputs": [],
   "source": []
  },
  {
   "cell_type": "code",
   "execution_count": 1,
   "id": "0068436c-ef88-48dc-82cd-bd3cd0de165e",
   "metadata": {},
   "outputs": [],
   "source": [
    "import os\n",
    "import numpy as np\n",
    "import matplotlib.pyplot as plt\n",
    "import glob\n",
    "import monai\n",
    "from PIL import Image\n",
    "import torch\n",
    "from monai.visualize import blend_images, matshow3d, plot_2d_or_3d_image\n",
    "from tqdm.notebook import tqdm\n",
    "from medpy.metric.binary import hd, dc\n",
    "import scipy.ndimage as ndi\n",
    "import evaluate"
   ]
  },
  {
   "cell_type": "code",
   "execution_count": 2,
   "id": "2a7cf2a1-29aa-481f-b331-60d824c540f8",
   "metadata": {},
   "outputs": [],
   "source": [
    "# Cursor parking space\n"
   ]
  },
  {
   "cell_type": "code",
   "execution_count": 3,
   "id": "258d8d8c-e2e0-4955-8d8e-6d4341616862",
   "metadata": {},
   "outputs": [],
   "source": [
    "patient_folders = [\"data/testing/testing/\" + x + \"/\" for x in os.listdir(\"data/testing/testing/\")]\n",
    "# patient_folders = [\"data/training/\" + x + \"/\" for x in os.listdir(\"data/training/\")]\n",
    "patient_files = [[x + y[:-7] for y in os.listdir(x) if \"frame\" in y and \"gt\" not in y] for x in patient_folders]\n",
    "patient_files_flattened = [element for sublist in patient_files for element in sublist]\n",
    "\n",
    "\n",
    "images = [{'img': x} for x in patient_files_flattened]"
   ]
  },
  {
   "cell_type": "code",
   "execution_count": 4,
   "id": "556fd669-3fbc-409e-af03-798e839de76a",
   "metadata": {},
   "outputs": [],
   "source": [
    "header_dict = {}\n",
    "device = \"cuda\""
   ]
  },
  {
   "cell_type": "code",
   "execution_count": 5,
   "id": "92304ee1-1a62-4141-8aaf-bf82c49686f7",
   "metadata": {},
   "outputs": [],
   "source": [
    "# data/training/patient029/patient029_frame01\n",
    "# patient029_frame01\n",
    "# SAVING PATIENT patient029_frame01_ES\n",
    "\n",
    "\n",
    "\n",
    "def get_name(filename):\n",
    "    number = (filename.split(\"/\")[-1]).split(\"_\")[0][-3:]\n",
    "    frame = (filename.split(\"/\")[-1]).split(\"_\")[1][-2:]\n",
    "    res = \"\"\n",
    "    if frame == \"01\":\n",
    "        res = \"patient\"+number+\"_ED\"  \n",
    "    else:\n",
    "        res = \"patient\"+number+\"_ES\"\n",
    "        \n",
    "    return res+\".nii.gz\"\n",
    "\n"
   ]
  },
  {
   "cell_type": "code",
   "execution_count": 6,
   "id": "032de188-f3e8-4769-94c9-0f160fc0e4eb",
   "metadata": {},
   "outputs": [],
   "source": [
    "from evaluate import load_nii\n",
    "class LoadNIFTI(monai.transforms.InvertibleTransform):\n",
    "    def __init__(self, keys=None):\n",
    "        self.next_id = 0\n",
    "        self.headers = {}\n",
    "        pass\n",
    "\n",
    "    def __call__(self, sample):\n",
    "        img_file = sample['img'] + \".nii.gz\"\n",
    "        # img_mask = sample['img'] + \"_gt.nii.gz\"\n",
    "                \n",
    "        image, img_affine, img_header = load_nii(img_file)\n",
    "        image = np.moveaxis(image, (2), (0))\n",
    "        \n",
    "        header_dict[sample['img']]=img_header\n",
    "        \n",
    "        # mask, mask_affine, mask_header = load_nii(img_mask)\n",
    "        # mask = np.moveaxis(mask, (2), (0))\n",
    "        extra_data = {\n",
    "            'name': sample['img'], \n",
    "            'affine': img_affine, \n",
    "            'original': image,\n",
    "            'scaling': img_header['pixdim'],\n",
    "            'id': self.next_id\n",
    "        }\n",
    "        self.headers[self.next_id] = img_header\n",
    "        self.next_id += 1\n",
    "        \n",
    "        return {'img': image, 'extra_data': extra_data}\n",
    "    \n",
    "    def inverse(self, sample):\n",
    "        img_header = self.headers[sample['extra_data']['id']]\n",
    "        name = sample['extra_data']['name']\n",
    "        \n",
    "        # plt.imshow(sample['img'][0][4])\n",
    "        # plt.show()\n",
    "        # plt.imshow(sample['extra_data']['original'][4])\n",
    "        # plt.show()\n",
    "        \n",
    "        reshaped = np.round(np.moveaxis(sample['img'][0].numpy(), (0, 1, 2), (2, 0, 1))).astype(np.uint8)\n",
    "\n",
    "        img_header['datatype'] = 2\n",
    "        \n",
    "        \n",
    "        evaluate.save_nii(\"results/validation_masks/\"+get_name(name), reshaped, sample['extra_data']['affine'], img_header)\n",
    "    \n",
    "       \n",
    "class ScaleDims(monai.transforms.InvertibleTransform):\n",
    "    def __init__(self, keys=None):\n",
    "        self.transforms = dict()\n",
    "        pass\n",
    "    \n",
    "    def __call__(self, sample):\n",
    "        scaling = sample['extra_data']['scaling']\n",
    "        transform = monai.transforms.Zoomd(keys=['img'], mode=['area'], zoom=(scaling[3] / 10, scaling[1] / 1.5, scaling[2] / 1.5), keep_size=False)\n",
    "        self.transforms[sample['extra_data']['id']] = transform\n",
    "        return transform(sample)\n",
    "    \n",
    "    def inverse(self, sample):\n",
    "        return self.transforms[sample['extra_data']['id']].inverse(sample)\n",
    "    \n",
    "class FindCenter(monai.transforms.InvertibleTransform):\n",
    "    def __init__(self, keys=None):\n",
    "        self.model = monai.networks.nets.Unet(\n",
    "                spatial_dims=3,\n",
    "                in_channels=1,\n",
    "                out_channels=3,\n",
    "                channels = (8, 16, 32, 64),\n",
    "                strides=(1, 1, 1),\n",
    "                num_res_units=2,\n",
    "            ).to(device)\n",
    "        \n",
    "        self.transforms = dict()\n",
    "        self.model.load_state_dict(torch.load(\"center_unet.pt\"))\n",
    "        self.model.eval\n",
    "        \n",
    "    def __call__(self, sample):\n",
    "        img = sample['img']\n",
    "        with torch.no_grad():\n",
    "            out = self.model(torch.unsqueeze(torch.Tensor(img).to(device), dim=0))\n",
    "            combined = np.sum(out[0].detach().cpu().numpy(), axis=(0, 1))\n",
    "            cx, cy = ndi.center_of_mass(combined)\n",
    "            dim_height = out.shape[2]\n",
    "            self.transforms[sample['extra_data']['id']] = monai.transforms.SpatialCropd(keys=['img'], roi_size=(dim_height, 128, 128), roi_center=(dim_height // 2, int(cx), int(cy)))\n",
    "            return self.transforms[sample['extra_data']['id']](sample)\n",
    "\n",
    "    def inverse(self, sample):\n",
    "        return self.transforms[sample['extra_data']['id']].inverse(sample)\n"
   ]
  },
  {
   "cell_type": "code",
   "execution_count": 7,
   "id": "4b539801-6bcf-4ac0-a7de-4fcd3e4790f5",
   "metadata": {},
   "outputs": [],
   "source": [
    "# Define transforms for loading the dataset\n",
    "\n",
    "# add_channels_transform = monai.transforms.AddChanneld(keys=['img', 'mask'])\n",
    "# flip_transform = monai.transforms.RandFlipd(keys=['img', 'mask'], prob=1, spatial_axis=1)\n",
    "# rotate_transform = monai.transforms.RandRotated(keys=['img', 'mask'], range_x=np.pi/4, prob=1, mode=['bilinear', 'nearest'])\n",
    "\n",
    "# compose_transform = monai.transforms.Compose(\n",
    "#     [\n",
    "#         LoadNIFTI(),\n",
    "#         monai.transforms.AddChanneld(keys=['img', 'mask']),\n",
    "#         monai.transforms.ScaleIntensityd(keys=['img', 'mask'], minv=0.0, maxv=1.0),\n",
    "#         SplitMask(),\n",
    "#         monai.transforms.Resized(keys=['img', 'mask'], spatial_size=(-1, 128, 128)),\n",
    "#         monai.transforms.SpatialPadd(keys=['img', 'mask'], spatial_size=(16, -1, -1)),\n",
    "#         monai.transforms.SpatialCropd(keys=['img', 'mask'], roi_size=(16, 128, 128), roi_center=(8, 64, 64)),\n",
    "#         monai.transforms.ScaleIntensityd(keys=['mask'], minv=0.0, maxv=1.0)\n",
    "#     ]\n",
    "# )\n",
    "\n",
    "compose_transform = monai.transforms.Compose(\n",
    "    [\n",
    "        LoadNIFTI(),\n",
    "        monai.transforms.AddChanneld(keys=['img']),\n",
    "        monai.transforms.ScaleIntensityd(keys=['img'], minv=0.0, maxv=1.0),\n",
    "        ScaleDims(),\n",
    "        FindCenter(),\n",
    "    ]\n",
    ")\n",
    "        "
   ]
  },
  {
   "cell_type": "code",
   "execution_count": 8,
   "id": "a800572b-818c-4dfe-a298-c5937d2f304d",
   "metadata": {},
   "outputs": [
    {
     "name": "stderr",
     "output_type": "stream",
     "text": [
      "Loading dataset: 100%|██████████| 100/100 [00:09<00:00, 11.02it/s]\n"
     ]
    }
   ],
   "source": [
    "train_dict_list = [x for x in images]\n",
    "dataset = monai.data.CacheDataset(train_dict_list, transform=compose_transform)\n"
   ]
  },
  {
   "cell_type": "code",
   "execution_count": 9,
   "id": "03315317-3b68-49ad-a78d-0ab7713525d7",
   "metadata": {},
   "outputs": [],
   "source": [
    "data_loader = monai.data.DataLoader(dataset, batch_size=1, shuffle=True)"
   ]
  },
  {
   "cell_type": "code",
   "execution_count": null,
   "id": "a0316323-c00f-4bf7-8462-0c1a8f792296",
   "metadata": {},
   "outputs": [],
   "source": []
  },
  {
   "cell_type": "code",
   "execution_count": 26,
   "id": "e0901219-9d3a-4726-ad7d-dfb4c9f0404c",
   "metadata": {
    "tags": []
   },
   "outputs": [
    {
     "data": {
      "text/plain": [
       "<All keys matched successfully>"
      ]
     },
     "execution_count": 26,
     "metadata": {},
     "output_type": "execute_result"
    }
   ],
   "source": [
    "# model = monai.networks.nets.UNETR(in_channels=1, out_channels=3, img_size=(16,128,128), feature_size=32, norm_name='batch').to(device)\n",
    "model = monai.networks.nets.Unet(\n",
    "    spatial_dims=3,\n",
    "    in_channels=1,\n",
    "    out_channels=3,\n",
    "    channels = (8, 16, 32, 64),\n",
    "    strides=(1, 1, 1),\n",
    "    num_res_units=2,\n",
    ").to(device)\n",
    "\n",
    "model.load_state_dict(torch.load('models/trainedUNet1655812377.0684168_184.pt'))"
   ]
  },
  {
   "cell_type": "code",
   "execution_count": 27,
   "id": "b7f57c57-4d46-4a03-a201-5eb3f08d1cc1",
   "metadata": {},
   "outputs": [],
   "source": [
    "def flatten(mask):\n",
    "    out = np.where(mask[2] >=0.5 , 3, np.where(mask[1] >= 0.5, 2, np.where(mask[0]>=0.5, 1, 0)))\n",
    "    return torch.Tensor(out)\n",
    "\n",
    "for d in data_loader:\n",
    "    \n",
    "    img = d['img']\n",
    "    # print(affine.shape)\n",
    "    pred = torch.clamp(model(img.to(device)), min=0, max=1).detach().cpu().numpy()\n",
    "    \n",
    "    flatt_pred = flatten(pred[0])\n",
    "    \n",
    "    d['img'] = torch.unsqueeze(torch.unsqueeze(flatt_pred, dim=0), dim=0)\n",
    "    monai.transforms.BatchInverseTransform(compose_transform, data_loader)(d)\n"
   ]
  },
  {
   "cell_type": "code",
   "execution_count": 28,
   "id": "2c3e548b-d387-4de9-a576-564c27210fff",
   "metadata": {},
   "outputs": [],
   "source": [
    "# import evaluate\n",
    "\n",
    "# evaluate.\n"
   ]
  },
  {
   "cell_type": "code",
   "execution_count": 29,
   "id": "e9b8b084-0f40-4481-a837-341f29d68f2f",
   "metadata": {},
   "outputs": [
    {
     "name": "stdout",
     "output_type": "stream",
     "text": [
      "          Name, Dice LV, Volume LV, Err LV(ml), Dice RV, Volume RV, Err RV(ml), Dice MYO, Volume MYO, Err MYO(ml)\n",
      "patient120_ED_x,   0.938,   128.678,      5.656,   0.737,    91.184,    -11.766,    0.858,    124.308,       4.094\n"
     ]
    }
   ],
   "source": [
    "evaluate.compute_metrics_on_files(\"results/validation_masks/patient120_ED_x.nii.gz\", \"results/validation_masks/patient120_ED.nii.gz\")"
   ]
  },
  {
   "cell_type": "code",
   "execution_count": 15,
   "id": "5f8310f2-9ba0-4c51-8b39-5319ebfd96f8",
   "metadata": {},
   "outputs": [
    {
     "name": "stdout",
     "output_type": "stream",
     "text": [
      "3 3\n",
      "uint8\n"
     ]
    },
    {
     "data": {
      "text/plain": [
       "[0.9315255076770679,\n",
       " 8.405,\n",
       " 0.6579999999999995,\n",
       " 0.8506687647521637,\n",
       " 6.188,\n",
       " -0.3340000000000005,\n",
       " 0.8791878172588833,\n",
       " 10.527,\n",
       " -0.6160000000000014]"
      ]
     },
     "execution_count": 15,
     "metadata": {},
     "output_type": "execute_result"
    }
   ],
   "source": [
    "image1, img_affine, img_header = load_nii(\"results/masks/patient029_ED.nii.gz\")\n",
    "image2, img_affine, img_header = load_nii(\"data/training/patient029/patient029_frame01_gt.nii.gz\")\n",
    "\n",
    "print(np.max(image1), np.max(image2))\n",
    "print(image1.dtype)\n",
    "evaluate.metrics(image1, image2, (1, 1, 1))\n",
    "# print(np.max(image1), np.max(image2))\n"
   ]
  }
 ],
 "metadata": {
  "kernelspec": {
   "display_name": "Python 3 (ipykernel)",
   "language": "python",
   "name": "python3"
  },
  "language_info": {
   "codemirror_mode": {
    "name": "ipython",
    "version": 3
   },
   "file_extension": ".py",
   "mimetype": "text/x-python",
   "name": "python",
   "nbconvert_exporter": "python",
   "pygments_lexer": "ipython3",
   "version": "3.10.4"
  }
 },
 "nbformat": 4,
 "nbformat_minor": 5
}
